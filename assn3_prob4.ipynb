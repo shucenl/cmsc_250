{
 "cells": [
  {
   "cell_type": "code",
   "execution_count": 1,
   "metadata": {
    "collapsed": false,
    "scrolled": true
   },
   "outputs": [
    {
     "name": "stdout",
     "output_type": "stream",
     "text": [
      "+----------+-----+-------+--------------------+------+-------+------+--------------------+---------+-----+-----+\n",
      "|appearance|aroma|beer_id|           beer_name|brewer|overall|palate|              review|review_id|style|taste|\n",
      "+----------+-----+-------+--------------------+------+-------+------+--------------------+---------+-----+-----+\n",
      "|       4.0|  6.0|  45842|John Harvards Sim...|  3084|   13.0|   3.0|On tap at the Spr...|        0|   17|  6.0|\n",
      "|       4.0|  6.0|  45842|John Harvards Sim...|  3084|   13.0|   4.0|On tap at the Joh...|        1|   17|  7.0|\n",
      "|       4.0|  5.0|  95213|John Harvards Cri...|  3084|   14.0|   3.0|UPDATED: FEB 19, ...|        2|   33|  6.0|\n",
      "|       2.0|  4.0|  65957|John Harvards Fan...|  3084|    8.0|   2.0|On tap the Spring...|        3|   33|  4.0|\n",
      "|       5.0|  8.0|  41336|John Harvards Van...|  3084|   16.0|   4.0|Springfield, PA l...|        5|   58|  7.0|\n",
      "|       4.0|  5.0|  80424|John Harvards Ame...|  3084|   12.0|   3.0|On tap at the Spr...|        6|   73|  6.0|\n",
      "|       2.0|  6.0|  51269|John Harvards Gra...|  3084|   14.0|   3.0|Sampled @ the Spr...|        7|   12|  7.0|\n",
      "|       4.0|  8.0|  51269|John Harvards Gra...|  3084|   16.0|   3.0|Springfield... Po...|        8|   12|  7.0|\n",
      "|       3.0|  8.0|  51269|John Harvards Gra...|  3084|   17.0|   4.0|UPDATED: FEB 19, ...|        9|   12|  8.0|\n",
      "|       4.0|  4.0|  73033|John Harvards Bel...|  3084|   11.0|   2.0|UPDATED: FEB 19, ...|       10|   62|  5.0|\n",
      "|       3.0|  5.0|  56415|John Harvards Cas...|  3084|   14.0|   3.0|UPDATED: FEB 19, ...|       11|   24|  7.0|\n",
      "|       3.0|  6.0|  68538|John Harvards Yin...|  3084|   12.0|   3.0|On tap at Springf...|       13|   50|  6.0|\n",
      "|       3.0|  5.0|  68538|John Harvards Yin...|  3084|    9.0|   2.0|On tap at the Spr...|       14|   50|  5.0|\n",
      "|       4.0|  8.0|  21566|Barley Island Bar...|  1786|   15.0|   4.0|Handbottled from ...|       15|   66|  8.0|\n",
      "|       4.0|  8.0|  21566|Barley Island Bar...|  1786|   15.0|   4.0|On tap at the Gre...|       16|   66|  8.0|\n",
      "|       3.0|  7.0|  21566|Barley Island Bar...|  1786|   14.0|   3.0|UPDATED: JUL 7, 2...|       17|   66|  6.0|\n",
      "|       4.0|  5.0|  21566|Barley Island Bar...|  1786|   13.0|   4.0|On cask at BI - A...|       18|   66|  4.0|\n",
      "|       3.0|  7.0|  21566|Barley Island Bar...|  1786|   13.0|   3.0|Name: BA Count Ho...|       20|   66|  7.0|\n",
      "|       3.0|  7.0|  21566|Barley Island Bar...|  1786|   14.0|   3.0|Aroma is sweet bo...|       21|   66|  7.0|\n",
      "|       3.0|  6.0|  21566|Barley Island Bar...|  1786|   13.0|   3.0|Cask at GTMW.  Po...|       22|   66|  7.0|\n",
      "+----------+-----+-------+--------------------+------+-------+------+--------------------+---------+-----+-----+\n",
      "only showing top 20 rows\n",
      "\n"
     ]
    }
   ],
   "source": [
    "from pyspark.sql import SparkSession\n",
    "    \n",
    "spark  = SparkSession.builder.master('local[50]').appName('beer_review').getOrCreate()\n",
    "df = spark.read.json('/project/cmsc25025/beer_review/labeled.json')\n",
    "df.show()"
   ]
  },
  {
   "cell_type": "code",
   "execution_count": 2,
   "metadata": {
    "collapsed": false
   },
   "outputs": [],
   "source": [
    "#Part1\n",
    "import numpy as np\n",
    "import matplotlib.pyplot as plt\n",
    "sc = spark.sparkContext\n",
    "overall_beer = df.rdd.map(lambda x: (x['beer_name'], x['overall'])).cache()\n",
    "overall_brewer = df.rdd.map(lambda x: (x['brewer'], x['overall'])).cache()\n",
    "beer_groups = overall_beer.groupByKey().mapValues(list).collect()\n",
    "brewer_groups = overall_brewer.groupByKey().mapValues(list).collect()\n",
    "\n",
    "def calculate_mean(groups):\n",
    "    mean_ls = []\n",
    "    for item in groups:\n",
    "        name = item[0]\n",
    "        scores = np.array(item[1])\n",
    "        mean = np.mean(scores)\n",
    "        mean_ls.append((name, mean))\n",
    "    return mean_ls\n",
    "\n",
    "def calculate_std(groups):\n",
    "    std_ls = []\n",
    "    for item in groups:\n",
    "        name = item[0]\n",
    "        scores = np.array(item[1])\n",
    "        std = np.std(scores)\n",
    "        std_ls.append((name, std))\n",
    "    return std_ls\n",
    "\n",
    "def calculate_median(groups):\n",
    "    median_ls = []                    \n",
    "    for item in groups:\n",
    "        name = item[0]\n",
    "        scores = sorted(item[1])\n",
    "        total = len(scores)\n",
    "        median = scores[total/2]\n",
    "        median_ls.append((name, median))\n",
    "    return median_ls\n",
    "\n",
    "beer_mean = calculate_mean(beer_groups)\n",
    "beer_std = calculate_std(beer_groups)\n",
    "beer_median = calculate_median(beer_groups)\n",
    "\n",
    "brewer_mean = calculate_mean(brewer_groups)\n",
    "brewer_std = calculate_std(brewer_groups)\n",
    "brewer_median = calculate_median(brewer_groups)\n",
    "                            "
   ]
  },
  {
   "cell_type": "code",
   "execution_count": 3,
   "metadata": {
    "collapsed": false
   },
   "outputs": [
    {
     "data": {
      "image/png": "[encoded data removed]",
      "text/plain": [
       "<matplotlib.figure.Figure at 0x7fbd5d13ffd0>"
      ]
     },
     "metadata": {},
     "output_type": "display_data"
    },
    {
     "data": {
      "image/png": "[encoded data removed]",
      "text/plain": [
       "<matplotlib.figure.Figure at 0x7fbd593eefd0>"
      ]
     },
     "metadata": {},
     "output_type": "display_data"
    }
   ],
   "source": [
    "plt.figure(1)\n",
    "plt.subplot(131)             \n",
    "plt.hist([x[1] for x in beer_mean])\n",
    "plt.xlabel('beer mean')\n",
    "plt.ylabel('Number of beers')\n",
    "plt.subplot(132)             \n",
    "plt.hist([x[1] for x in beer_median])\n",
    "plt.xlabel('beer median')\n",
    "plt.subplot(133)             \n",
    "plt.hist([x[1] for x in beer_std])\n",
    "plt.xlabel('beer stdev')\n",
    "\n",
    "plt.figure(2)\n",
    "plt.subplot(131)             \n",
    "plt.hist([x[1] for x in brewer_mean])\n",
    "plt.xlabel('brewer mean')\n",
    "plt.ylabel('Number of brewers')\n",
    "plt.subplot(132)             \n",
    "plt.hist([x[1] for x in brewer_median])\n",
    "plt.xlabel('brewer median')\n",
    "plt.subplot(133)             \n",
    "plt.hist([x[1] for x in brewer_std])\n",
    "plt.xlabel('brewer stdev')\n",
    "\n",
    "plt.show()"
   ]
  },
  {
   "cell_type": "code",
   "execution_count": 5,
   "metadata": {
    "collapsed": false
   },
   "outputs": [
    {
     "name": "stdout",
     "output_type": "stream",
     "text": [
      "I feel people have quite similar tastes, as the standard deviation for most beers are quite low, \n",
      "and lost of beers have similar mean and median scores\n"
     ]
    }
   ],
   "source": [
    "print \"I feel people have quite similar tastes, as the standard deviation for most beers are quite low, \"\n",
    "print \"and lost of beers have similar mean and median scores\""
   ]
  },
  {
   "cell_type": "code",
   "execution_count": 6,
   "metadata": {
    "collapsed": false
   },
   "outputs": [],
   "source": [
    "#Part2\n",
    "import json\n",
    "with open('/project/cmsc25025/beer_review/vocab_50.json', 'r') as f:\n",
    "    vocab = json.load(f)\n",
    "from scipy.sparse import coo_matrix\n",
    "TOTAL = df.count()"
   ]
  },
  {
   "cell_type": "code",
   "execution_count": 7,
   "metadata": {
    "collapsed": false
   },
   "outputs": [],
   "source": [
    "#Part2\n",
    "#(a)\n",
    "import numpy as np\n",
    "import string\n",
    "def collect_words(s):\n",
    "    '''\n",
    "    Convert the speech to a collection of words\n",
    "    '''\n",
    "    s = s.lower().encode('utf-8').translate(string.maketrans(\"\",\"\"), string.punctuation)\n",
    "    return s.split()\n",
    "def find_feature(word_ls, vocab_dict):\n",
    "    index_ls = [0]\n",
    "    for word in word_ls:\n",
    "        index = vocab_dict.get(word, -1)\n",
    "        if index != -1:\n",
    "            index_ls.append(index+1)\n",
    "    if index_ls != []:\n",
    "        col = np.array(index_ls)\n",
    "        row = np.array([0] * len(index_ls))\n",
    "        data = np.array([1] * len(index_ls))\n",
    "        feature = coo_matrix((data, (row, col)), shape=(1, (len(vocab_dict) + 1)))\n",
    "        return feature\n",
    "    else:\n",
    "        return None"
   ]
  },
  {
   "cell_type": "code",
   "execution_count": 12,
   "metadata": {
    "collapsed": true
   },
   "outputs": [],
   "source": [
    "#(b)\n",
    "import math\n",
    "from pyspark.sql import Row\n",
    "from math import exp\n",
    "import numpy as np\n",
    "proportions = [0.005] * 200\n",
    "\n",
    "def pos_or_neg(x):\n",
    "    if x >= 14:\n",
    "        return 1\n",
    "    else:\n",
    "        return 0\n",
    "    \n",
    "features = df.rdd.map(lambda x: (x['review_id'], \n",
    "                            collect_words(x['review']), x['overall'])).map(lambda x: \n",
    "                            Row(feature = find_feature(x[1], vocab), \n",
    "                                overall = pos_or_neg(x[2]))).filter(lambda x: x['feature']!= None).cache()\n",
    "train, val, test = features.randomSplit([0.7, 0.15, 0.15])\n",
    "mini_batches = train.randomSplit(proportions, seed = 1)"
   ]
  },
  {
   "cell_type": "code",
   "execution_count": 8,
   "metadata": {
    "collapsed": false
   },
   "outputs": [],
   "source": [
    "\n",
    "\n",
    "def param_grad(x, y, param):\n",
    "    pi = 1/(1 + exp( - x.dot(param.T)))\n",
    "    grad = x.dot(y - pi)\n",
    "    return grad\n",
    "\n",
    "def batch_grad(features, param):\n",
    "    grad_sum = features.map(lambda x: (param_grad(x['feature'], x['overall'], param), \n",
    "                                       1)).reduce(lambda x, y: ((x[0] + y[0]), (x[1] + y[1])))\n",
    "    grad = grad_sum[0]/grad_sum[1]\n",
    "    return grad      \n",
    "    \n",
    "def SGD(batches, c1, c2, regpar, beta):\n",
    "    for i in range(len(batches)):\n",
    "        batch = batches[i]\n",
    "        grad = batch_grad(batch, beta)\n",
    "        beta = beta + float(c1)/(i+1)**c2 * (grad - regpar)\n",
    "    return beta\n",
    "\n",
    "def SGD_plot(df, proportions, c1, c2, regpar, beta):\n",
    "    batches = df.randomSplit(proportions)\n",
    "    x_ls = [x for x in range(len(batches)) if x%5 == 0]\n",
    "    err_ls = []\n",
    "    like_ls = []\n",
    "    for i in range(len(batches)):\n",
    "        batch = batches[i]\n",
    "        grad = batch_grad(batch, beta)\n",
    "        beta = beta + float(c1)/(i+1)**c2 * (grad.toarray() - regpar)\n",
    "        if i%5 == 0:\n",
    "            error = calc_error(beta, df)\n",
    "            likelihood = calc_likelihood(beta, df)\n",
    "            err_ls.append(error)\n",
    "            like_ls.append(likelihood)\n",
    "    plt.subplot(121)\n",
    "    plt.plot(x_ls, err_ls)\n",
    "    plt.ylabel('error')\n",
    "    plt.subplot(122)\n",
    "    plt.ylabel('negative log likelihood')\n",
    "    plt.plot(x_ls, like_ls)\n",
    "    plt.show()\n",
    "    pass\n",
    "def choose_par(train, val, par_ls, beta):\n",
    "    err_ls = []\n",
    "    for par in par_ls:\n",
    "        mini_batches = train.randomSplit([0.02]*50, seed = 1)\n",
    "        beta = SGD(mini_batches, 1, 2, 0.1, beta)   \n",
    "        error = calc_error(beta, val)\n",
    "        print error\n",
    "        err_ls.append(error)\n",
    "    best_par = par_ls[err_ls.index(min(err_ls))]\n",
    "    return best_par"
   ]
  },
  {
   "cell_type": "code",
   "execution_count": 9,
   "metadata": {
    "collapsed": false
   },
   "outputs": [],
   "source": [
    "import matplotlib.pyplot as plt\n",
    "import matplotlib.pyplot\n",
    "def if_error(x, param, real):\n",
    "    predict = 1/(1 + exp(x.dot(param.T)))\n",
    "    if real == 0:\n",
    "        if predict > 0.5:\n",
    "            return 1\n",
    "        else:\n",
    "            return 0\n",
    "    elif real == 1:\n",
    "        if predict > 0.5:\n",
    "            return 0\n",
    "        else:\n",
    "            return 1\n",
    "\n",
    "def neg_log(param, x, y):\n",
    "    likelihood_pi = exp(x.dot(param.T))/(1 + exp(x.dot(param.T)))\n",
    "    loglike = y*math.log(likelihood_pi) + (1-y)*math.log(1-likelihood_pi)\n",
    "    return loglike\n",
    "\n",
    "def calc_error(param, df):\n",
    "    error = df.map(lambda x: if_error(x[0], param, x[1])).reduce(lambda a, b: a + b)\n",
    "    error_rate = float(error)/df.count()\n",
    "    return error_rate\n",
    "\n",
    "def calc_likelihood(param, df):\n",
    "    loglike = df.map(lambda x: neg_log(param, x[0], x[1])).reduce(lambda a, b: a + b)\n",
    "    return loglike\n",
    "\n",
    "\n",
    "def iterate_sgd(num):\n",
    "    beta = np.array([0] * len(vocab))\n",
    "    errval_ls = []\n",
    "    errtrain_ls = []\n",
    "    likeval_ls = []\n",
    "    liketrain_ls = []\n",
    "    for i in range(num):\n",
    "        beta = SGD(batches, c1, c2, regpar, beta)\n",
    "        errval_ls.append(calc_error(beta, val))\n",
    "        errtrain_ls.append(calc_error(beta, train))\n",
    "        likeval_ls.append(calc_likelihood(beta, val))\n",
    "        liketrain_ls.append(calc_likelihood(beta, val))\n",
    "    return errval_ls, errtrain_ls, likeval_ls, liketrain_ls"
   ]
  },
  {
   "cell_type": "code",
   "execution_count": 9,
   "metadata": {
    "collapsed": false,
    "scrolled": true
   },
   "outputs": [
    {
     "name": "stdout",
     "output_type": "stream",
     "text": [
      "0.464021688854\n",
      "0.463888005091\n",
      "0.463748973977\n",
      "0.463393375167\n",
      "0.4632169126\n",
      "Training\n"
     ]
    },
    {
     "data": {
      "image/png": "[encoded data removed]",
      "text/plain": [
       "<matplotlib.figure.Figure at 0x7fbd58b0ae50>"
      ]
     },
     "metadata": {},
     "output_type": "display_data"
    },
    {
     "name": "stdout",
     "output_type": "stream",
     "text": [
      "Validation\n"
     ]
    },
    {
     "data": {
      "image/png": "[encoded data removed]",
      "text/plain": [
       "<matplotlib.figure.Figure at 0x7fbd5712d890>"
      ]
     },
     "metadata": {},
     "output_type": "display_data"
    }
   ],
   "source": [
    "#Part2\n",
    "par_ls = [0.00001, 0.0001, 0.001, 0.01, 0.1]\n",
    "\n",
    "best_par = choose_par(train, val, par_ls, np.array([0] * (len(vocab) + 1)))\n",
    "\n",
    "print \"Training\"\n",
    "SGD_plot(train, [0.005] * 200, 1, 2, best_par, np.array([0] * (len(vocab) + 1)))\n",
    "\n",
    "print \"Validation\"\n",
    "SGD_plot(val, [0.005] * 200, 1, 2, best_par, np.array([0] * (len(vocab) + 1)))"
   ]
  },
  {
   "cell_type": "code",
   "execution_count": 16,
   "metadata": {
    "collapsed": false
   },
   "outputs": [
    {
     "name": "stdout",
     "output_type": "stream",
     "text": [
      "0.651915014605\n"
     ]
    }
   ],
   "source": [
    "#Part3\n",
    "scores = df.rdd.map(lambda x: Row(feature = np.array([x['appearance'], x['aroma'], x['palate'], x['style'], x['taste']]), \n",
    "                               overall = pos_or_neg(x['overall']))).cache()\n",
    "\n",
    "train_2, val_2, test_2 = scores.randomSplit([0.7, 0.15, 0.15])\n",
    "proportions = [0.005] * 200\n",
    "mini_batches_2 = train_2.union(val_2).randomSplit(proportions, seed = 1)\n",
    "\n",
    "best_par = choose_par(train_2, val_2, par_ls, np.array([0, 0, 0, 0, 0]))\n",
    "\n",
    "beta = SGD(mini_batches_2, 1, 2, 0.001, np.array([0, 0, 0, 0, 0]))\n",
    "\n",
    "error_new = calc_error(beta, test_2)\n",
    "\n",
    "print error_new"
   ]
  },
  {
   "cell_type": "code",
   "execution_count": 22,
   "metadata": {
    "collapsed": false
   },
   "outputs": [
    {
     "name": "stdout",
     "output_type": "stream",
     "text": [
      "The text features are better predictions than scores, as they contain more information\n"
     ]
    }
   ],
   "source": [
    "print \"The text features are better predictions than scores, as they contain more information\""
   ]
  },
  {
   "cell_type": "code",
   "execution_count": 29,
   "metadata": {
    "collapsed": false
   },
   "outputs": [],
   "source": [
    "#Part4 \n",
    "import numpy as np\n",
    "from sklearn import linear_model\n",
    "\n",
    "df2 = spark.read.json('/project/cmsc25025/beer_review/unlabeled.json')\n",
    "X = df.rdd.map(lambda x: (x['appearance'], x['aroma'], x['palate'], x['style'], x['taste'])).cache()\n",
    "Y = df.rdd.map(lambda x: pos_or_neg(x['overall'])).cache()\n",
    "\n",
    "linear_model.SGDClassifier(alpha=0.0001, average=False, class_weight=None, epsilon=0.1,\n",
    "        eta0=0.0, fit_intercept=True, l1_ratio=0.15,\n",
    "        learning_rate='optimal', loss='hinge', n_iter=5, n_jobs=1,\n",
    "        penalty='l2', power_t=0.5, random_state=None, shuffle=True,\n",
    "        verbose=0, warm_start=False)\n",
    "clf = linear_model.SGDClassifier()\n",
    "clf.fit(np.asarray(X.collect()), np.asarray(Y.collect()))\n",
    "\n",
    "prediction_ls = df2.rdd.map(lambda x: (x['review_id'], \n",
    "            clf.predict((x['appearance'], x['aroma'], x['palate'], x['style'], x['taste']))[0])).collect()\n",
    "prediction = dict(prediction_ls)\n"
   ]
  },
  {
   "cell_type": "code",
   "execution_count": 33,
   "metadata": {
    "collapsed": false,
    "scrolled": true
   },
   "outputs": [
    {
     "name": "stdout",
     "output_type": "stream",
     "text": [
      "(4, 0)\n"
     ]
    }
   ],
   "source": [
    "print prediction_ls[0]\n"
   ]
  },
  {
   "cell_type": "code",
   "execution_count": 34,
   "metadata": {
    "collapsed": true
   },
   "outputs": [],
   "source": [
    "with open('assn3_prob4_predict.json', 'w') as f:\n",
    "    json.dump(prediction, f)"
   ]
  }
 ],
 "metadata": {
  "kernelspec": {
   "display_name": "Python 2",
   "language": "python",
   "name": "python2"
  },
  "language_info": {
   "codemirror_mode": {
    "name": "ipython",
    "version": 2
   },
   "file_extension": ".py",
   "mimetype": "text/x-python",
   "name": "python",
   "nbconvert_exporter": "python",
   "pygments_lexer": "ipython2",
   "version": "2.7.12"
  }
 },
 "nbformat": 4,
 "nbformat_minor": 2
}
